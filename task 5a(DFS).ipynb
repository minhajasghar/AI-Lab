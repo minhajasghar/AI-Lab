{
 "cells": [
  {
   "cell_type": "code",
   "execution_count": 1,
   "id": "22762bae-94ff-436c-bd4e-011695271c78",
   "metadata": {},
   "outputs": [
    {
     "name": "stdout",
     "output_type": "stream",
     "text": [
      "DFS with Stack: [1, 2, 4, 5, 3]\n"
     ]
    }
   ],
   "source": [
    "class Node:\n",
    "    def __init__(self, value):\n",
    "        self.value = value\n",
    "        self.children = []\n",
    "\n",
    "def dfs_stack(root):\n",
    "    if not root:\n",
    "        return []\n",
    "\n",
    "    stack = [root]\n",
    "    visited = []\n",
    "\n",
    "    while stack:\n",
    "        node = stack.pop()\n",
    "        visited.append(node.value)\n",
    "\n",
    "        for child in reversed(node.children):\n",
    "            stack.append(child)\n",
    "\n",
    "    return visited\n",
    "\n",
    "root = Node(1)\n",
    "root.children = [Node(2), Node(3)]\n",
    "root.children[0].children = [Node(4), Node(5)]\n",
    "\n",
    "print(\"DFS with Stack:\", dfs_stack(root))\n"
   ]
  },
  {
   "cell_type": "code",
   "execution_count": null,
   "id": "f4043443-a684-4597-8ec5-c5125ce0936f",
   "metadata": {},
   "outputs": [],
   "source": []
  }
 ],
 "metadata": {
  "kernelspec": {
   "display_name": "Python 3 (ipykernel)",
   "language": "python",
   "name": "python3"
  },
  "language_info": {
   "codemirror_mode": {
    "name": "ipython",
    "version": 3
   },
   "file_extension": ".py",
   "mimetype": "text/x-python",
   "name": "python",
   "nbconvert_exporter": "python",
   "pygments_lexer": "ipython3",
   "version": "3.9.0"
  }
 },
 "nbformat": 4,
 "nbformat_minor": 5
}
