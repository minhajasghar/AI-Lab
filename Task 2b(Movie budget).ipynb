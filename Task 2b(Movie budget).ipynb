{
 "cells": [
  {
   "cell_type": "code",
   "execution_count": 29,
   "id": "93dff045-c137-4573-937b-cc0b18d0f682",
   "metadata": {},
   "outputs": [
    {
     "name": "stdout",
     "output_type": "stream",
     "text": [
      "Average Budget: 190500000.0\n",
      "High Budget Movies: ['Pirates of the Caribbean: On Stranger Tides', 'Avengers: Age of Ultron', 'Avengers: Endgame', 'Incredibles 2']\n"
     ]
    },
    {
     "name": "stdin",
     "output_type": "stream",
     "text": [
      "Enter number of movies you want to add: 1\n",
      "Enter name: Taray zameen par\n",
      "Enter budget: 500000000\n"
     ]
    }
   ],
   "source": [
    "movies = [\n",
    "    (\"Eternal sunshine of the spotless mind\",20000000),\n",
    "    (\"Memento\", 9000000),\n",
    "    (\"Requiem for a Dream\", 4500000),\n",
    "    (\"Pirates of the Caribbean: On Stranger Tides\", 379000000),\n",
    "    (\"Avengers: Age of Ultron\", 365000000),\n",
    "    (\"Avengers: Endgame\", 356000000),\n",
    "    (\"Incredibles 2\", 200000000)\n",
    "]\n",
    "def average():\n",
    "    total_budget = 0\n",
    "    for i,budget in movies:\n",
    "        total_budget += budget\n",
    "    avg = total_budget/len(movies)\n",
    "    return avg\n",
    "    \n",
    "def high_budget_mov(movies,avg):\n",
    "    highBudgetMovie = []\n",
    "    for high,budget in movies:\n",
    "        if budget>avg:\n",
    "            highBudgetMovie.append(high)\n",
    "    return highBudgetMovie\n",
    "\n",
    "def add_mov(movies):\n",
    "    num_movies = int(input(\"Enter number of movies you want to add:\"))\n",
    "    for i in range(num_movies):\n",
    "        name = input(\"Enter name:\")\n",
    "        budget = int(input(\"Enter budget:\"))\n",
    "        movies.append((name, budget))\n",
    "        \n",
    "avg = average()\n",
    "print(f\"Average Budget:\",avg)\n",
    "\n",
    "high_budget_movies = high_budget_mov(movies,avg)\n",
    "print(f\"High Budget Movies:\",high_budget_movies)\n",
    "\n",
    "add_mov(movies)"
   ]
  },
  {
   "cell_type": "code",
   "execution_count": null,
   "id": "0eaa0a13-bb80-4be3-b36f-c61d265e3d6c",
   "metadata": {},
   "outputs": [],
   "source": []
  }
 ],
 "metadata": {
  "kernelspec": {
   "display_name": "Python 3 (ipykernel)",
   "language": "python",
   "name": "python3"
  },
  "language_info": {
   "codemirror_mode": {
    "name": "ipython",
    "version": 3
   },
   "file_extension": ".py",
   "mimetype": "text/x-python",
   "name": "python",
   "nbconvert_exporter": "python",
   "pygments_lexer": "ipython3",
   "version": "3.9.0"
  }
 },
 "nbformat": 4,
 "nbformat_minor": 5
}
