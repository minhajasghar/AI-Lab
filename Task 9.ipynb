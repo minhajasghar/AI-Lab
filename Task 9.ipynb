{
 "cells": [
  {
   "cell_type": "code",
   "execution_count": 1,
   "id": "2de7c2ee-fad1-4760-aa41-b92b32d5cc5a",
   "metadata": {},
   "outputs": [],
   "source": [
    "import pandas as pd"
   ]
  },
  {
   "cell_type": "code",
   "execution_count": 10,
   "id": "42b279e9-0718-4100-8db0-7eb50b5bee9e",
   "metadata": {},
   "outputs": [
    {
     "data": {
      "text/html": [
       "<div>\n",
       "<style scoped>\n",
       "    .dataframe tbody tr th:only-of-type {\n",
       "        vertical-align: middle;\n",
       "    }\n",
       "\n",
       "    .dataframe tbody tr th {\n",
       "        vertical-align: top;\n",
       "    }\n",
       "\n",
       "    .dataframe thead th {\n",
       "        text-align: right;\n",
       "    }\n",
       "</style>\n",
       "<table border=\"1\" class=\"dataframe\">\n",
       "  <thead>\n",
       "    <tr style=\"text-align: right;\">\n",
       "      <th></th>\n",
       "      <th>user_id</th>\n",
       "      <th>first_name</th>\n",
       "      <th>last_name</th>\n",
       "      <th>age</th>\n",
       "      <th>gender</th>\n",
       "      <th>birthdate</th>\n",
       "      <th>sign_up_date</th>\n",
       "      <th>user_location</th>\n",
       "      <th>subscription_plan</th>\n",
       "    </tr>\n",
       "  </thead>\n",
       "  <tbody>\n",
       "    <tr>\n",
       "      <th>0</th>\n",
       "      <td>user_1</td>\n",
       "      <td>Chris</td>\n",
       "      <td>Wilson</td>\n",
       "      <td>56</td>\n",
       "      <td>Female</td>\n",
       "      <td>2000-02-29</td>\n",
       "      <td>2023-02-06</td>\n",
       "      <td>Denver</td>\n",
       "      <td>Basic</td>\n",
       "    </tr>\n",
       "    <tr>\n",
       "      <th>1</th>\n",
       "      <td>user_2</td>\n",
       "      <td>Michael</td>\n",
       "      <td>Miller</td>\n",
       "      <td>46</td>\n",
       "      <td>Non-binary</td>\n",
       "      <td>1978-12-22</td>\n",
       "      <td>2023-08-08</td>\n",
       "      <td>Orlando</td>\n",
       "      <td>Pro</td>\n",
       "    </tr>\n",
       "    <tr>\n",
       "      <th>2</th>\n",
       "      <td>user_3</td>\n",
       "      <td>Daniel</td>\n",
       "      <td>Smith</td>\n",
       "      <td>32</td>\n",
       "      <td>Female</td>\n",
       "      <td>1962-08-30</td>\n",
       "      <td>2021-01-11</td>\n",
       "      <td>Orlando</td>\n",
       "      <td>Basic</td>\n",
       "    </tr>\n",
       "    <tr>\n",
       "      <th>3</th>\n",
       "      <td>user_4</td>\n",
       "      <td>David</td>\n",
       "      <td>Smith</td>\n",
       "      <td>60</td>\n",
       "      <td>Male</td>\n",
       "      <td>2003-12-05</td>\n",
       "      <td>2023-08-07</td>\n",
       "      <td>Denver</td>\n",
       "      <td>Pro</td>\n",
       "    </tr>\n",
       "    <tr>\n",
       "      <th>4</th>\n",
       "      <td>user_5</td>\n",
       "      <td>Chris</td>\n",
       "      <td>Jones</td>\n",
       "      <td>25</td>\n",
       "      <td>Female</td>\n",
       "      <td>2004-08-25</td>\n",
       "      <td>2021-01-08</td>\n",
       "      <td>Denver</td>\n",
       "      <td>Basic</td>\n",
       "    </tr>\n",
       "    <tr>\n",
       "      <th>...</th>\n",
       "      <td>...</td>\n",
       "      <td>...</td>\n",
       "      <td>...</td>\n",
       "      <td>...</td>\n",
       "      <td>...</td>\n",
       "      <td>...</td>\n",
       "      <td>...</td>\n",
       "      <td>...</td>\n",
       "      <td>...</td>\n",
       "    </tr>\n",
       "    <tr>\n",
       "      <th>4995</th>\n",
       "      <td>user_4996</td>\n",
       "      <td>Sarah</td>\n",
       "      <td>Williams</td>\n",
       "      <td>33</td>\n",
       "      <td>Male</td>\n",
       "      <td>1958-01-13</td>\n",
       "      <td>2021-08-08</td>\n",
       "      <td>Las Vegas</td>\n",
       "      <td>Basic</td>\n",
       "    </tr>\n",
       "    <tr>\n",
       "      <th>4996</th>\n",
       "      <td>user_4997</td>\n",
       "      <td>Linda</td>\n",
       "      <td>Brown</td>\n",
       "      <td>22</td>\n",
       "      <td>Male</td>\n",
       "      <td>1974-02-20</td>\n",
       "      <td>2023-01-22</td>\n",
       "      <td>Austin</td>\n",
       "      <td>Student</td>\n",
       "    </tr>\n",
       "    <tr>\n",
       "      <th>4997</th>\n",
       "      <td>user_4998</td>\n",
       "      <td>Emily</td>\n",
       "      <td>Miller</td>\n",
       "      <td>38</td>\n",
       "      <td>Non-binary</td>\n",
       "      <td>1978-03-29</td>\n",
       "      <td>2021-04-16</td>\n",
       "      <td>Atlanta</td>\n",
       "      <td>Pro</td>\n",
       "    </tr>\n",
       "    <tr>\n",
       "      <th>4998</th>\n",
       "      <td>user_4999</td>\n",
       "      <td>Robert</td>\n",
       "      <td>Garcia</td>\n",
       "      <td>27</td>\n",
       "      <td>Male</td>\n",
       "      <td>2002-02-01</td>\n",
       "      <td>2022-07-02</td>\n",
       "      <td>Denver</td>\n",
       "      <td>Pro</td>\n",
       "    </tr>\n",
       "    <tr>\n",
       "      <th>4999</th>\n",
       "      <td>user_5000</td>\n",
       "      <td>Chris</td>\n",
       "      <td>Smith</td>\n",
       "      <td>36</td>\n",
       "      <td>Male</td>\n",
       "      <td>1959-11-21</td>\n",
       "      <td>2022-02-20</td>\n",
       "      <td>Seattle</td>\n",
       "      <td>Student</td>\n",
       "    </tr>\n",
       "  </tbody>\n",
       "</table>\n",
       "<p>5000 rows × 9 columns</p>\n",
       "</div>"
      ],
      "text/plain": [
       "        user_id first_name last_name  age      gender   birthdate  \\\n",
       "0        user_1      Chris    Wilson   56      Female  2000-02-29   \n",
       "1        user_2    Michael    Miller   46  Non-binary  1978-12-22   \n",
       "2        user_3     Daniel     Smith   32      Female  1962-08-30   \n",
       "3        user_4      David     Smith   60        Male  2003-12-05   \n",
       "4        user_5      Chris     Jones   25      Female  2004-08-25   \n",
       "...         ...        ...       ...  ...         ...         ...   \n",
       "4995  user_4996      Sarah  Williams   33        Male  1958-01-13   \n",
       "4996  user_4997      Linda     Brown   22        Male  1974-02-20   \n",
       "4997  user_4998      Emily    Miller   38  Non-binary  1978-03-29   \n",
       "4998  user_4999     Robert    Garcia   27        Male  2002-02-01   \n",
       "4999  user_5000      Chris     Smith   36        Male  1959-11-21   \n",
       "\n",
       "     sign_up_date user_location subscription_plan  \n",
       "0      2023-02-06        Denver             Basic  \n",
       "1      2023-08-08       Orlando               Pro  \n",
       "2      2021-01-11       Orlando             Basic  \n",
       "3      2023-08-07        Denver               Pro  \n",
       "4      2021-01-08        Denver             Basic  \n",
       "...           ...           ...               ...  \n",
       "4995   2021-08-08     Las Vegas             Basic  \n",
       "4996   2023-01-22        Austin           Student  \n",
       "4997   2021-04-16       Atlanta               Pro  \n",
       "4998   2022-07-02        Denver               Pro  \n",
       "4999   2022-02-20       Seattle           Student  \n",
       "\n",
       "[5000 rows x 9 columns]"
      ]
     },
     "execution_count": 10,
     "metadata": {},
     "output_type": "execute_result"
    }
   ],
   "source": [
    "dataset = pd.read_csv(r\"C:\\Users\\window\\Downloads\\archive (1)\\users_data.csv\")\n",
    "dataset"
   ]
  },
  {
   "cell_type": "code",
   "execution_count": 11,
   "id": "785a81e6-22e6-4f9a-b214-ac897b21672c",
   "metadata": {},
   "outputs": [
    {
     "data": {
      "text/html": [
       "<div>\n",
       "<style scoped>\n",
       "    .dataframe tbody tr th:only-of-type {\n",
       "        vertical-align: middle;\n",
       "    }\n",
       "\n",
       "    .dataframe tbody tr th {\n",
       "        vertical-align: top;\n",
       "    }\n",
       "\n",
       "    .dataframe thead th {\n",
       "        text-align: right;\n",
       "    }\n",
       "</style>\n",
       "<table border=\"1\" class=\"dataframe\">\n",
       "  <thead>\n",
       "    <tr style=\"text-align: right;\">\n",
       "      <th></th>\n",
       "      <th>user_id</th>\n",
       "      <th>first_name</th>\n",
       "      <th>last_name</th>\n",
       "      <th>age</th>\n",
       "      <th>gender</th>\n",
       "      <th>birthdate</th>\n",
       "      <th>sign_up_date</th>\n",
       "      <th>user_location</th>\n",
       "      <th>subscription_plan</th>\n",
       "    </tr>\n",
       "  </thead>\n",
       "  <tbody>\n",
       "    <tr>\n",
       "      <th>0</th>\n",
       "      <td>user_1</td>\n",
       "      <td>Chris</td>\n",
       "      <td>Wilson</td>\n",
       "      <td>56</td>\n",
       "      <td>Female</td>\n",
       "      <td>2000-02-29</td>\n",
       "      <td>2023-02-06</td>\n",
       "      <td>Denver</td>\n",
       "      <td>Basic</td>\n",
       "    </tr>\n",
       "    <tr>\n",
       "      <th>1</th>\n",
       "      <td>user_2</td>\n",
       "      <td>Michael</td>\n",
       "      <td>Miller</td>\n",
       "      <td>46</td>\n",
       "      <td>Non-binary</td>\n",
       "      <td>1978-12-22</td>\n",
       "      <td>2023-08-08</td>\n",
       "      <td>Orlando</td>\n",
       "      <td>Pro</td>\n",
       "    </tr>\n",
       "  </tbody>\n",
       "</table>\n",
       "</div>"
      ],
      "text/plain": [
       "  user_id first_name last_name  age      gender   birthdate sign_up_date  \\\n",
       "0  user_1      Chris    Wilson   56      Female  2000-02-29   2023-02-06   \n",
       "1  user_2    Michael    Miller   46  Non-binary  1978-12-22   2023-08-08   \n",
       "\n",
       "  user_location subscription_plan  \n",
       "0        Denver             Basic  \n",
       "1       Orlando               Pro  "
      ]
     },
     "execution_count": 11,
     "metadata": {},
     "output_type": "execute_result"
    }
   ],
   "source": [
    "dataset.head(2)"
   ]
  },
  {
   "cell_type": "code",
   "execution_count": 12,
   "id": "63ada22c-699f-4f18-a026-872f79d6d596",
   "metadata": {},
   "outputs": [
    {
     "data": {
      "text/html": [
       "<div>\n",
       "<style scoped>\n",
       "    .dataframe tbody tr th:only-of-type {\n",
       "        vertical-align: middle;\n",
       "    }\n",
       "\n",
       "    .dataframe tbody tr th {\n",
       "        vertical-align: top;\n",
       "    }\n",
       "\n",
       "    .dataframe thead th {\n",
       "        text-align: right;\n",
       "    }\n",
       "</style>\n",
       "<table border=\"1\" class=\"dataframe\">\n",
       "  <thead>\n",
       "    <tr style=\"text-align: right;\">\n",
       "      <th></th>\n",
       "      <th>user_id</th>\n",
       "      <th>first_name</th>\n",
       "      <th>last_name</th>\n",
       "      <th>age</th>\n",
       "      <th>gender</th>\n",
       "      <th>birthdate</th>\n",
       "      <th>sign_up_date</th>\n",
       "      <th>user_location</th>\n",
       "      <th>subscription_plan</th>\n",
       "    </tr>\n",
       "  </thead>\n",
       "  <tbody>\n",
       "    <tr>\n",
       "      <th>4998</th>\n",
       "      <td>user_4999</td>\n",
       "      <td>Robert</td>\n",
       "      <td>Garcia</td>\n",
       "      <td>27</td>\n",
       "      <td>Male</td>\n",
       "      <td>2002-02-01</td>\n",
       "      <td>2022-07-02</td>\n",
       "      <td>Denver</td>\n",
       "      <td>Pro</td>\n",
       "    </tr>\n",
       "    <tr>\n",
       "      <th>4999</th>\n",
       "      <td>user_5000</td>\n",
       "      <td>Chris</td>\n",
       "      <td>Smith</td>\n",
       "      <td>36</td>\n",
       "      <td>Male</td>\n",
       "      <td>1959-11-21</td>\n",
       "      <td>2022-02-20</td>\n",
       "      <td>Seattle</td>\n",
       "      <td>Student</td>\n",
       "    </tr>\n",
       "  </tbody>\n",
       "</table>\n",
       "</div>"
      ],
      "text/plain": [
       "        user_id first_name last_name  age gender   birthdate sign_up_date  \\\n",
       "4998  user_4999     Robert    Garcia   27   Male  2002-02-01   2022-07-02   \n",
       "4999  user_5000      Chris     Smith   36   Male  1959-11-21   2022-02-20   \n",
       "\n",
       "     user_location subscription_plan  \n",
       "4998        Denver               Pro  \n",
       "4999       Seattle           Student  "
      ]
     },
     "execution_count": 12,
     "metadata": {},
     "output_type": "execute_result"
    }
   ],
   "source": [
    "dataset.tail(2)"
   ]
  },
  {
   "cell_type": "code",
   "execution_count": 17,
   "id": "a59d43d8-af43-49eb-bdc8-39881cb75e26",
   "metadata": {},
   "outputs": [
    {
     "name": "stdout",
     "output_type": "stream",
     "text": [
      "<class 'pandas.core.frame.DataFrame'>\n",
      "RangeIndex: 5000 entries, 0 to 4999\n",
      "Data columns (total 9 columns):\n",
      " #   Column             Non-Null Count  Dtype \n",
      "---  ------             --------------  ----- \n",
      " 0   user_id            5000 non-null   object\n",
      " 1   first_name         5000 non-null   object\n",
      " 2   last_name          5000 non-null   object\n",
      " 3   age                5000 non-null   int64 \n",
      " 4   gender             5000 non-null   object\n",
      " 5   birthdate          5000 non-null   object\n",
      " 6   sign_up_date       5000 non-null   object\n",
      " 7   user_location      5000 non-null   object\n",
      " 8   subscription_plan  5000 non-null   object\n",
      "dtypes: int64(1), object(8)\n",
      "memory usage: 351.7+ KB\n"
     ]
    }
   ],
   "source": [
    "dataset.info()"
   ]
  },
  {
   "cell_type": "code",
   "execution_count": 16,
   "id": "b8ca8969-6d64-48bc-b841-d7f784b22d14",
   "metadata": {},
   "outputs": [
    {
     "data": {
      "text/plain": [
       "user_id              0\n",
       "first_name           0\n",
       "last_name            0\n",
       "age                  0\n",
       "gender               0\n",
       "birthdate            0\n",
       "sign_up_date         0\n",
       "user_location        0\n",
       "subscription_plan    0\n",
       "dtype: int64"
      ]
     },
     "execution_count": 16,
     "metadata": {},
     "output_type": "execute_result"
    }
   ],
   "source": [
    "dataset.isnull().sum()"
   ]
  },
  {
   "cell_type": "code",
   "execution_count": 18,
   "id": "1674457f-bf7d-4dda-934e-964183c8cca8",
   "metadata": {},
   "outputs": [
    {
     "data": {
      "text/html": [
       "<div>\n",
       "<style scoped>\n",
       "    .dataframe tbody tr th:only-of-type {\n",
       "        vertical-align: middle;\n",
       "    }\n",
       "\n",
       "    .dataframe tbody tr th {\n",
       "        vertical-align: top;\n",
       "    }\n",
       "\n",
       "    .dataframe thead th {\n",
       "        text-align: right;\n",
       "    }\n",
       "</style>\n",
       "<table border=\"1\" class=\"dataframe\">\n",
       "  <thead>\n",
       "    <tr style=\"text-align: right;\">\n",
       "      <th></th>\n",
       "      <th>age</th>\n",
       "    </tr>\n",
       "  </thead>\n",
       "  <tbody>\n",
       "    <tr>\n",
       "      <th>count</th>\n",
       "      <td>5000.00000</td>\n",
       "    </tr>\n",
       "    <tr>\n",
       "      <th>mean</th>\n",
       "      <td>41.16820</td>\n",
       "    </tr>\n",
       "    <tr>\n",
       "      <th>std</th>\n",
       "      <td>13.53105</td>\n",
       "    </tr>\n",
       "    <tr>\n",
       "      <th>min</th>\n",
       "      <td>18.00000</td>\n",
       "    </tr>\n",
       "    <tr>\n",
       "      <th>25%</th>\n",
       "      <td>29.00000</td>\n",
       "    </tr>\n",
       "    <tr>\n",
       "      <th>50%</th>\n",
       "      <td>41.00000</td>\n",
       "    </tr>\n",
       "    <tr>\n",
       "      <th>75%</th>\n",
       "      <td>53.00000</td>\n",
       "    </tr>\n",
       "    <tr>\n",
       "      <th>max</th>\n",
       "      <td>64.00000</td>\n",
       "    </tr>\n",
       "  </tbody>\n",
       "</table>\n",
       "</div>"
      ],
      "text/plain": [
       "              age\n",
       "count  5000.00000\n",
       "mean     41.16820\n",
       "std      13.53105\n",
       "min      18.00000\n",
       "25%      29.00000\n",
       "50%      41.00000\n",
       "75%      53.00000\n",
       "max      64.00000"
      ]
     },
     "execution_count": 18,
     "metadata": {},
     "output_type": "execute_result"
    }
   ],
   "source": [
    "dataset.describe()"
   ]
  },
  {
   "cell_type": "code",
   "execution_count": 19,
   "id": "fd43a77d-f137-4093-bd94-c3b8e715ba8c",
   "metadata": {},
   "outputs": [
    {
     "data": {
      "text/plain": [
       "user_id              5000\n",
       "first_name           5000\n",
       "last_name            5000\n",
       "age                  5000\n",
       "gender               5000\n",
       "birthdate            5000\n",
       "sign_up_date         5000\n",
       "user_location        5000\n",
       "subscription_plan    5000\n",
       "dtype: int64"
      ]
     },
     "execution_count": 19,
     "metadata": {},
     "output_type": "execute_result"
    }
   ],
   "source": [
    "dataset.count()"
   ]
  },
  {
   "cell_type": "code",
   "execution_count": 21,
   "id": "cef9bc73-c335-40c6-8500-e02963e0bed6",
   "metadata": {},
   "outputs": [
    {
     "data": {
      "text/plain": [
       "(5000, 9)"
      ]
     },
     "execution_count": 21,
     "metadata": {},
     "output_type": "execute_result"
    }
   ],
   "source": [
    "dataset.shape"
   ]
  },
  {
   "cell_type": "code",
   "execution_count": 22,
   "id": "c11448bd-2235-4157-8838-dfdaa886c3e1",
   "metadata": {},
   "outputs": [
    {
     "name": "stdout",
     "output_type": "stream",
     "text": [
      "Number of Rows: 5000 \n",
      "Number of Columns: 9\n"
     ]
    }
   ],
   "source": [
    "print(f\"Number of Rows: {dataset.shape[0]} \\nNumber of Columns: {dataset.shape[1]}\")"
   ]
  },
  {
   "cell_type": "code",
   "execution_count": 23,
   "id": "01bbe6b6-fb43-44fe-b0f4-97b5380313dd",
   "metadata": {},
   "outputs": [
    {
     "data": {
      "text/plain": [
       "array(['Chris', 'Michael', 'Daniel', 'David', 'Jessica', 'Linda', 'Jane',\n",
       "       'Robert', 'John', 'Sarah', 'Emily', 'Laura'], dtype=object)"
      ]
     },
     "execution_count": 23,
     "metadata": {},
     "output_type": "execute_result"
    }
   ],
   "source": [
    "dataset['first_name'].unique()"
   ]
  },
  {
   "cell_type": "code",
   "execution_count": 24,
   "id": "a72bed9e-4da3-4d63-9827-aea9429774e5",
   "metadata": {},
   "outputs": [
    {
     "data": {
      "text/plain": [
       "user_id              5000\n",
       "first_name             12\n",
       "last_name              12\n",
       "age                    47\n",
       "gender                  3\n",
       "birthdate            4363\n",
       "sign_up_date         1013\n",
       "user_location          10\n",
       "subscription_plan       3\n",
       "dtype: int64"
      ]
     },
     "execution_count": 24,
     "metadata": {},
     "output_type": "execute_result"
    }
   ],
   "source": [
    "dataset.nunique()"
   ]
  },
  {
   "cell_type": "code",
   "execution_count": 25,
   "id": "db436939-df04-44f3-bd27-c1e9c3abea44",
   "metadata": {},
   "outputs": [
    {
     "data": {
      "text/plain": [
       "array([56, 46, 32, 60, 25, 38, 36, 40, 28, 41, 53, 57, 20, 39, 19, 61, 47,\n",
       "       55, 50, 29, 42, 44, 59, 45, 33, 64, 54, 24, 26, 35, 21, 31, 43, 37,\n",
       "       52, 34, 23, 51, 27, 48, 62, 58, 18, 22, 30, 49, 63], dtype=int64)"
      ]
     },
     "execution_count": 25,
     "metadata": {},
     "output_type": "execute_result"
    }
   ],
   "source": [
    "dataset['age'].unique()"
   ]
  }
 ],
 "metadata": {
  "kernelspec": {
   "display_name": "Python 3 (ipykernel)",
   "language": "python",
   "name": "python3"
  },
  "language_info": {
   "codemirror_mode": {
    "name": "ipython",
    "version": 3
   },
   "file_extension": ".py",
   "mimetype": "text/x-python",
   "name": "python",
   "nbconvert_exporter": "python",
   "pygments_lexer": "ipython3",
   "version": "3.9.0"
  }
 },
 "nbformat": 4,
 "nbformat_minor": 5
}
