{
 "cells": [
  {
   "cell_type": "code",
   "execution_count": 1,
   "id": "ca606127-eada-4316-87d4-f19f5f73a9bd",
   "metadata": {},
   "outputs": [
    {
     "name": "stdout",
     "output_type": "stream",
     "text": [
      "BFS with Queue: [1, 2, 3, 4, 5]\n"
     ]
    }
   ],
   "source": [
    "from collections import deque\n",
    "\n",
    "class GraphNode:\n",
    "    def __init__(self, value):\n",
    "        self.value = value\n",
    "        self.children = []\n",
    "\n",
    "def bfs_with_queue(root):\n",
    "    if not root:\n",
    "        return []\n",
    "\n",
    "    queue = deque([root])\n",
    "    visited = []\n",
    "\n",
    "    while queue:\n",
    "        node = queue.popleft()\n",
    "        visited.append(node.value)\n",
    "        queue.extend(node.children)\n",
    "\n",
    "    return visited\n",
    "\n",
    "root = GraphNode(1)\n",
    "root.children = [GraphNode(2), GraphNode(3)]\n",
    "root.children[0].children = [GraphNode(4), GraphNode(5)]\n",
    "\n",
    "print(\"BFS with Queue:\", bfs_with_queue(root))\n"
   ]
  },
  {
   "cell_type": "code",
   "execution_count": null,
   "id": "dffe3def-b677-4ab6-aa8c-30d9c5322db5",
   "metadata": {},
   "outputs": [],
   "source": []
  }
 ],
 "metadata": {
  "kernelspec": {
   "display_name": "Python 3 (ipykernel)",
   "language": "python",
   "name": "python3"
  },
  "language_info": {
   "codemirror_mode": {
    "name": "ipython",
    "version": 3
   },
   "file_extension": ".py",
   "mimetype": "text/x-python",
   "name": "python",
   "nbconvert_exporter": "python",
   "pygments_lexer": "ipython3",
   "version": "3.9.0"
  }
 },
 "nbformat": 4,
 "nbformat_minor": 5
}
