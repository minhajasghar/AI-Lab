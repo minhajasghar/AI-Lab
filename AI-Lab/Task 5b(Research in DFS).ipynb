{
 "cells": [
  {
   "cell_type": "code",
   "execution_count": 1,
   "id": "ade808c8-01ff-4ffd-b7f4-0c01d96d0ea1",
   "metadata": {},
   "outputs": [
    {
     "name": "stdout",
     "output_type": "stream",
     "text": [
      "Preorder: [1, 2, 4, 5, 3]\n",
      "Inorder: [4, 2, 5, 1, 3]\n",
      "Postorder: [4, 5, 2, 3, 1]\n"
     ]
    }
   ],
   "source": [
    "class BinaryTreeNode:\n",
    "    def __init__(self, value):\n",
    "        self.value = value\n",
    "        self.left = None\n",
    "        self.right = None\n",
    "\n",
    "def preorder(node):\n",
    "    if node:\n",
    "        return [node.value] + preorder(node.left) + preorder(node.right)\n",
    "    return []\n",
    "\n",
    "def inorder(node):\n",
    "    if node:\n",
    "        return inorder(node.left) + [node.value] + inorder(node.right)\n",
    "    return []\n",
    "\n",
    "def postorder(node):\n",
    "    if node:\n",
    "        return postorder(node.left) + postorder(node.right) + [node.value]\n",
    "    return []\n",
    "\n",
    "root = BinaryTreeNode(1)\n",
    "root.left = BinaryTreeNode(2)\n",
    "root.right = BinaryTreeNode(3)\n",
    "root.left.left = BinaryTreeNode(4)\n",
    "root.left.right = BinaryTreeNode(5)\n",
    "\n",
    "print(\"Preorder:\", preorder(root))\n",
    "print(\"Inorder:\", inorder(root))\n",
    "print(\"Postorder:\", postorder(root))\n"
   ]
  },
  {
   "cell_type": "code",
   "execution_count": null,
   "id": "8861b6f2-da11-4fd3-9f13-737756482061",
   "metadata": {},
   "outputs": [],
   "source": []
  }
 ],
 "metadata": {
  "kernelspec": {
   "display_name": "Python 3 (ipykernel)",
   "language": "python",
   "name": "python3"
  },
  "language_info": {
   "codemirror_mode": {
    "name": "ipython",
    "version": 3
   },
   "file_extension": ".py",
   "mimetype": "text/x-python",
   "name": "python",
   "nbconvert_exporter": "python",
   "pygments_lexer": "ipython3",
   "version": "3.9.0"
  }
 },
 "nbformat": 4,
 "nbformat_minor": 5
}
