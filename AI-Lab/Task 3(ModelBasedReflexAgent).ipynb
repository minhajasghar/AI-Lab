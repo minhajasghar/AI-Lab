{
 "cells": [
  {
   "cell_type": "code",
   "execution_count": 8,
   "id": "f92882e2-a9e8-482e-ac14-029a08bc13c8",
   "metadata": {},
   "outputs": [],
   "source": [
    "class ModelBasedReflexAgent:\n",
    "    def __init__(self,temp):\n",
    "        self.desired_temp = temp\n",
    "        self.previous_temp = None\n",
    "    def percept(self,temp):\n",
    "        if self.previous_temp is not None:\n",
    "            self.previous_temp = temp\n",
    "        self.current_temp = temp\n",
    "    def act(self):\n",
    "        if self.previous_temp is not None:\n",
    "            print(f\"Previous Temperature: {self.previous_temp}\")\n",
    "        if self.current_temp > self.desired_temp:\n",
    "            print(\"Turn off the heater\")\n",
    "        else:\n",
    "            print(\"Turn on the heater\")"
   ]
  },
  {
   "cell_type": "code",
   "execution_count": 9,
   "id": "e14fe30b-5ac1-4105-937a-5556f9d223e0",
   "metadata": {},
   "outputs": [
    {
     "name": "stdout",
     "output_type": "stream",
     "text": [
      "Turn on the heater\n"
     ]
    }
   ],
   "source": [
    "agent = ModelBasedReflexAgent(22)\n",
    "agent.percept(20)\n",
    "agent.act()"
   ]
  },
  {
   "cell_type": "code",
   "execution_count": 10,
   "id": "e22b385b-62a1-4b9f-9e7f-4cb383b15103",
   "metadata": {},
   "outputs": [],
   "source": [
    "rooms = {\n",
    "    \"Room\" : 14,\n",
    "    \"Kitchen\" : 33,\n",
    "    \"Living Room\" : 22\n",
    "}"
   ]
  },
  {
   "cell_type": "code",
   "execution_count": null,
   "id": "83b19ad2-8785-4e1f-bc97-e207513805c0",
   "metadata": {},
   "outputs": [],
   "source": [
    "for room,temp in rooms.items():\n",
    "    agent.percept(temp)\n",
    "    print(f\"{room}:{temp}==>{agent.act()"
   ]
  }
 ],
 "metadata": {
  "kernelspec": {
   "display_name": "Python 3 (ipykernel)",
   "language": "python",
   "name": "python3"
  },
  "language_info": {
   "codemirror_mode": {
    "name": "ipython",
    "version": 3
   },
   "file_extension": ".py",
   "mimetype": "text/x-python",
   "name": "python",
   "nbconvert_exporter": "python",
   "pygments_lexer": "ipython3",
   "version": "3.9.0"
  }
 },
 "nbformat": 4,
 "nbformat_minor": 5
}
