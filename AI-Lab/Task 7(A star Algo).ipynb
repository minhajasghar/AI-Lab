{
 "cells": [
  {
   "cell_type": "code",
   "execution_count": 1,
   "id": "a3180240-1c5e-4407-8617-6bd60ce3d92e",
   "metadata": {},
   "outputs": [
    {
     "name": "stdout",
     "output_type": "stream",
     "text": [
      "Path found: ['A', 'C', 'E']\n"
     ]
    }
   ],
   "source": [
    "class Node:\n",
    "    def __init__(self, name, parent=None, g=0, h=0):\n",
    "        self.name = name\n",
    "        self.parent = parent\n",
    "        self.g = g\n",
    "        self.h = h\n",
    "        self.f = g + h\n",
    "\n",
    "    def __lt__(self, other):\n",
    "        return self.f < other.f\n",
    "\n",
    "def a_star(start, goal, graph, heuristic):\n",
    "    open_list = []\n",
    "    closed_list = set()\n",
    "    start_node = Node(start, None, 0, heuristic[start])\n",
    "    open_list.append(start_node)\n",
    "\n",
    "    while open_list:\n",
    "        open_list.sort()\n",
    "        current_node = open_list.pop(0)\n",
    "\n",
    "        if current_node.name == goal:\n",
    "            path = []\n",
    "            while current_node:\n",
    "                path.append(current_node.name)\n",
    "                current_node = current_node.parent\n",
    "            return path[::-1]\n",
    "\n",
    "        closed_list.add(current_node.name)\n",
    "\n",
    "        for neighbor, cost in graph[current_node.name].items():\n",
    "            if neighbor in closed_list:\n",
    "                continue\n",
    "\n",
    "            g_cost = current_node.g + cost\n",
    "            h_cost = heuristic[neighbor]\n",
    "            neighbor_node = Node(neighbor, current_node, g_cost, h_cost)\n",
    "\n",
    "            for node in open_list:\n",
    "                if node.name == neighbor and g_cost >= node.g:\n",
    "                    break\n",
    "            else:\n",
    "                open_list.append(neighbor_node)\n",
    "\n",
    "    return None\n",
    "\n",
    "graph = {\n",
    "    'A': {'B': 1, 'C': 4},\n",
    "    'B': {'A': 1, 'D': 2, 'E': 5},\n",
    "    'C': {'A': 4, 'E': 1},\n",
    "    'D': {'B': 2, 'E': 1},\n",
    "    'E': {'B': 5, 'C': 1, 'D': 1}\n",
    "}\n",
    "\n",
    "heuristic = {\n",
    "    'A': 7,\n",
    "    'B': 6,\n",
    "    'C': 2,\n",
    "    'D': 1,\n",
    "    'E': 0\n",
    "}\n",
    "\n",
    "start = 'A'\n",
    "goal = 'E'\n",
    "path = a_star(start, goal, graph, heuristic)\n",
    "\n",
    "print(\"Path found:\", path)\n"
   ]
  },
  {
   "cell_type": "code",
   "execution_count": null,
   "id": "350b6dab-aafc-412e-9ebe-6d681e7272d9",
   "metadata": {},
   "outputs": [],
   "source": []
  }
 ],
 "metadata": {
  "kernelspec": {
   "display_name": "Python 3 (ipykernel)",
   "language": "python",
   "name": "python3"
  },
  "language_info": {
   "codemirror_mode": {
    "name": "ipython",
    "version": 3
   },
   "file_extension": ".py",
   "mimetype": "text/x-python",
   "name": "python",
   "nbconvert_exporter": "python",
   "pygments_lexer": "ipython3",
   "version": "3.9.0"
  }
 },
 "nbformat": 4,
 "nbformat_minor": 5
}
