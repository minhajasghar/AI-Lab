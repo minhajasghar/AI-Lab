{
 "cells": [
  {
   "cell_type": "code",
   "execution_count": 13,
   "id": "e9acbcfb-b126-4ad6-8cc3-307cc3c8cca4",
   "metadata": {},
   "outputs": [
    {
     "name": "stdin",
     "output_type": "stream",
     "text": [
      "Enter card number:  4111111111111111\n"
     ]
    },
    {
     "name": "stdout",
     "output_type": "stream",
     "text": [
      "Processed digits: [1, 2, 1, 2, 1, 2, 1, 2, 1, 2, 1, 2, 1, 2, 1, 8], Total: 30\n",
      "Valid card number.\n"
     ]
    }
   ],
   "source": [
    "def luhn_algorithm(card_number):\n",
    "    digits = [int(i) for i in str(card_number)]\n",
    "    digits.reverse()\n",
    "\n",
    "    for i in range(len(digits)):\n",
    "        if i % 2 == 1:  \n",
    "            digits[i] *= 2\n",
    "            if digits[i] > 9:  \n",
    "                digits[i] -= 9\n",
    "\n",
    "    total = sum(digits)\n",
    "    print(f\"Processed digits: {digits}, Total: {total}\")\n",
    "    return total % 10 == 0\n",
    "\n",
    "card_number = input(\"Enter card number: \")\n",
    "if luhn_algorithm(card_number):\n",
    "    print(\"Valid card number.\")\n",
    "else:\n",
    "    print(\"Invalid card number.\")\n"
   ]
  }
 ],
 "metadata": {
  "kernelspec": {
   "display_name": "Python 3 (ipykernel)",
   "language": "python",
   "name": "python3"
  },
  "language_info": {
   "codemirror_mode": {
    "name": "ipython",
    "version": 3
   },
   "file_extension": ".py",
   "mimetype": "text/x-python",
   "name": "python",
   "nbconvert_exporter": "python",
   "pygments_lexer": "ipython3",
   "version": "3.9.0"
  }
 },
 "nbformat": 4,
 "nbformat_minor": 5
}
