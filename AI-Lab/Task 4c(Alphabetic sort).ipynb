{
 "cells": [
  {
   "cell_type": "code",
   "execution_count": 1,
   "id": "4f89997b-4787-4226-bc8c-17a5b44522a5",
   "metadata": {},
   "outputs": [
    {
     "name": "stdin",
     "output_type": "stream",
     "text": [
      "Enter words separated by space:  m i n h a j\n"
     ]
    },
    {
     "name": "stdout",
     "output_type": "stream",
     "text": [
      "Sorted words: a h i j m n\n"
     ]
    }
   ],
   "source": [
    "def alphabetical_sort(words):\n",
    "    sorted_words = []\n",
    "    \n",
    "    while words:\n",
    "        min_word = words[0]\n",
    "        for word in words:\n",
    "            if word < min_word:\n",
    "                min_word = word\n",
    "        sorted_words.append(min_word)\n",
    "        words.remove(min_word) \n",
    "    \n",
    "    return sorted_words\n",
    "\n",
    "user_input = input(\"Enter words separated by space: \")\n",
    "words = user_input.split()\n",
    "sorted_words = alphabetical_sort(words)\n",
    "print(\"Sorted words:\", ' '.join(sorted_words))"
   ]
  }
 ],
 "metadata": {
  "kernelspec": {
   "display_name": "Python 3 (ipykernel)",
   "language": "python",
   "name": "python3"
  },
  "language_info": {
   "codemirror_mode": {
    "name": "ipython",
    "version": 3
   },
   "file_extension": ".py",
   "mimetype": "text/x-python",
   "name": "python",
   "nbconvert_exporter": "python",
   "pygments_lexer": "ipython3",
   "version": "3.9.0"
  }
 },
 "nbformat": 4,
 "nbformat_minor": 5
}
