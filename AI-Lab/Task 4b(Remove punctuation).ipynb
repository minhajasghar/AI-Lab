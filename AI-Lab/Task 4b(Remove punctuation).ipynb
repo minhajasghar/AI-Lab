{
 "cells": [
  {
   "cell_type": "code",
   "execution_count": 1,
   "id": "1362ef2a-dd51-4600-8775-1d2795156925",
   "metadata": {},
   "outputs": [
    {
     "name": "stdin",
     "output_type": "stream",
     "text": [
      "Enter a string:  *&^%$/>,\n"
     ]
    },
    {
     "name": "stdout",
     "output_type": "stream",
     "text": [
      "String without punctuation: \n"
     ]
    }
   ],
   "source": [
    " def remove_punctuation(input_string):\n",
    "    punctuation = '''!()-[]{};:'\"\\,<>./?@#$%^&*_~'''\n",
    "    result = ''\n",
    "    \n",
    "    for char in input_string:\n",
    "        if char not in punctuation:\n",
    "            result += char    \n",
    "    return result\n",
    "\n",
    "user_input = input(\"Enter a string: \")\n",
    "cleaned_string = remove_punctuation(user_input)\n",
    "print(\"String without punctuation:\", cleaned_string)"
   ]
  },
  {
   "cell_type": "code",
   "execution_count": null,
   "id": "73222e16-3075-40c9-bba1-5eb4ff1dd237",
   "metadata": {},
   "outputs": [],
   "source": []
  }
 ],
 "metadata": {
  "kernelspec": {
   "display_name": "Python 3 (ipykernel)",
   "language": "python",
   "name": "python3"
  },
  "language_info": {
   "codemirror_mode": {
    "name": "ipython",
    "version": 3
   },
   "file_extension": ".py",
   "mimetype": "text/x-python",
   "name": "python",
   "nbconvert_exporter": "python",
   "pygments_lexer": "ipython3",
   "version": "3.9.0"
  }
 },
 "nbformat": 4,
 "nbformat_minor": 5
}
