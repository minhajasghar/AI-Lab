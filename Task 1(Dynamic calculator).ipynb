{
 "cells": [
  {
   "cell_type": "code",
   "execution_count": 3,
   "id": "7ed6e401-2039-4299-823b-9be35376c331",
   "metadata": {},
   "outputs": [
    {
     "name": "stdout",
     "output_type": "stream",
     "text": [
      "Simple Dynamic Calculator\n",
      "Type 'exit' to quit.\n"
     ]
    },
    {
     "name": "stdin",
     "output_type": "stream",
     "text": [
      "Enter expression:  1+2-3*4\n"
     ]
    },
    {
     "name": "stdout",
     "output_type": "stream",
     "text": [
      "Result: -9.0\n"
     ]
    },
    {
     "name": "stdin",
     "output_type": "stream",
     "text": [
      "Enter expression:  exit\n"
     ]
    },
    {
     "name": "stdout",
     "output_type": "stream",
     "text": [
      "Exiting the calculator.\n"
     ]
    }
   ],
   "source": [
    "def expression(expression):\n",
    "    def op(op, val1, val2):\n",
    "        if op == '+':\n",
    "            return val1 + val2\n",
    "        elif op == '-':\n",
    "            return val1 - val2\n",
    "        elif op == '*':\n",
    "            return val1 * val2\n",
    "        elif op == '/':\n",
    "            if val2 != 0:\n",
    "                return val1 / val2\n",
    "            else:\n",
    "                raise ValueError(\"Error: Division by zero\")\n",
    "\n",
    "    def parse(expression):\n",
    "        expression = expression.replace('(', '*(')\n",
    "        expression = expression.replace(')(', ')*(')\n",
    "\n",
    "        num = ''\n",
    "        values = []\n",
    "        ops = []\n",
    "\n",
    "        i = 0\n",
    "        while i < len(expression):\n",
    "            char = expression[i]\n",
    "            \n",
    "            if char.isdigit() or char == '.':\n",
    "                num += char\n",
    "            else:\n",
    "                if num:\n",
    "                    values.append(float(num))\n",
    "                    num = ''\n",
    "                if char in '+-*/':\n",
    "                    while (ops and ops[-1] in '*/' and char in '+-'):\n",
    "                        values.append(op(ops.pop(), values.pop(-2), values.pop()))\n",
    "                    ops.append(char)\n",
    "                elif char == '(':\n",
    "                    ops.append(char)\n",
    "                elif char == ')':\n",
    "                    while ops and ops[-1] != '(':\n",
    "                        values.append(op(ops.pop(), values.pop(-2), values.pop()))\n",
    "                    ops.pop()  # Remove the '('\n",
    "            i += 1\n",
    "        \n",
    "        if num:\n",
    "            values.append(float(num))\n",
    "        \n",
    "        while ops:\n",
    "            values.append(op(ops.pop(), values.pop(-2), values.pop()))\n",
    "        \n",
    "        return values[0]\n",
    "\n",
    "    try:\n",
    "        return parse(expression)\n",
    "    except Exception as e:\n",
    "        return f\"Error: {str(e)}\"\n",
    "\n",
    "def main():\n",
    "    print(\"Simple Dynamic Calculator\")\n",
    "    print(\"Type 'exit' to quit.\")\n",
    "\n",
    "    while True:\n",
    "        user_input = input(\"Enter expression: \").strip()\n",
    "        if user_input.lower() == 'exit':\n",
    "            print(\"Exiting the calculator.\")\n",
    "            break\n",
    "        \n",
    "        result = expression(user_input)\n",
    "        print(f\"Result: {result}\")\n",
    "\n",
    "main()"
   ]
  },
  {
   "cell_type": "code",
   "execution_count": null,
   "id": "40284e2d-5363-4aeb-90d7-27742902a8c9",
   "metadata": {},
   "outputs": [],
   "source": []
  }
 ],
 "metadata": {
  "kernelspec": {
   "display_name": "Python 3 (ipykernel)",
   "language": "python",
   "name": "python3"
  },
  "language_info": {
   "codemirror_mode": {
    "name": "ipython",
    "version": 3
   },
   "file_extension": ".py",
   "mimetype": "text/x-python",
   "name": "python",
   "nbconvert_exporter": "python",
   "pygments_lexer": "ipython3",
   "version": "3.9.0"
  }
 },
 "nbformat": 4,
 "nbformat_minor": 5
}
